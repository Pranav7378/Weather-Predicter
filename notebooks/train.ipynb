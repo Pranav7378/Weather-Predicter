{
  "nbformat": 4,
  "nbformat_minor": 0,
  "metadata": {
    "colab": {
      "provenance": [],
      "authorship_tag": "ABX9TyOS8LOFR/u9QVtyvjpra60c",
      "include_colab_link": true
    },
    "kernelspec": {
      "name": "python3",
      "display_name": "Python 3"
    },
    "language_info": {
      "name": "python"
    }
  },
  "cells": [
    {
      "cell_type": "markdown",
      "metadata": {
        "id": "view-in-github",
        "colab_type": "text"
      },
      "source": [
        "<a href=\"https://colab.research.google.com/github/Pranav7378/Weather-Predicter/blob/main/notebooks/train.ipynb\" target=\"_parent\"><img src=\"https://colab.research.google.com/assets/colab-badge.svg\" alt=\"Open In Colab\"/></a>"
      ]
    },
    {
      "cell_type": "code",
      "execution_count": 1,
      "metadata": {
        "id": "mV6PKqoIdixl"
      },
      "outputs": [],
      "source": [
        "# Cell 1 - Install required packages\n",
        "!pip install -q meteostat prophet python-dotenv git-lfs\n"
      ]
    },
    {
      "cell_type": "code",
      "source": [
        "# Cell 2 - Clone your repo and set up path\n",
        "import subprocess, pathlib, os, sys\n",
        "\n",
        "REPO_URL = \"https://github.com/Pranav7378/Weather-Predicter.git\"\n",
        "if not pathlib.Path(\"Weather-Predicter\").exists():\n",
        "    subprocess.run([\"git\", \"clone\", REPO_URL], check=True)\n",
        "%cd Weather-Predicter\n",
        "sys.path.append(str(pathlib.Path.cwd()))\n"
      ],
      "metadata": {
        "colab": {
          "base_uri": "https://localhost:8080/"
        },
        "id": "DLfovJB9do2O",
        "outputId": "9c917ab9-f5fe-4d7a-fab1-4d0ec78c8093"
      },
      "execution_count": 2,
      "outputs": [
        {
          "output_type": "stream",
          "name": "stdout",
          "text": [
            "/content/Weather-Predicter\n"
          ]
        }
      ]
    },
    {
      "cell_type": "code",
      "source": [
        "# Cell 3 - (optional placeholder)\n",
        "print(\"✅ Ready to train Prophet model\")\n"
      ],
      "metadata": {
        "colab": {
          "base_uri": "https://localhost:8080/"
        },
        "id": "yPWD9IFPdtfG",
        "outputId": "7092612f-122d-4a6e-e630-87d6f0f2b92b"
      },
      "execution_count": 3,
      "outputs": [
        {
          "output_type": "stream",
          "name": "stdout",
          "text": [
            "✅ Ready to train Prophet model\n"
          ]
        }
      ]
    },
    {
      "cell_type": "code",
      "source": [],
      "metadata": {
        "id": "7mNT6N8tduOW"
      },
      "execution_count": null,
      "outputs": []
    }
  ]
}